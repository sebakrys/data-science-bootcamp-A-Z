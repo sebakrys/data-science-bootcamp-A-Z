{
  "cells": [
    {
      "cell_type": "markdown",
      "metadata": {
        "id": "view-in-github",
        "colab_type": "text"
      },
      "source": [
        "<a href=\"https://colab.research.google.com/github/sebakrys/data-science-bootcamp-A-Z/blob/main/02_numpy_pt2_linear_algebry.ipynb\" target=\"_parent\"><img src=\"https://colab.research.google.com/assets/colab-badge.svg\" alt=\"Open In Colab\"/></a>"
      ]
    },
    {
      "cell_type": "markdown",
      "source": [
        "# Linear Algebra"
      ],
      "metadata": {
        "collapsed": false,
        "pycharm": {
          "name": "#%% md\n"
        },
        "id": "z4kioR78p4KK"
      }
    },
    {
      "cell_type": "code",
      "execution_count": 2,
      "outputs": [
        {
          "output_type": "execute_result",
          "data": {
            "text/plain": [
              "'1.26.4'"
            ],
            "application/vnd.google.colaboratory.intrinsic+json": {
              "type": "string"
            }
          },
          "metadata": {},
          "execution_count": 2
        }
      ],
      "source": [
        "import numpy as np\n",
        "np.__version__"
      ],
      "metadata": {
        "pycharm": {
          "name": "#%%\n"
        },
        "colab": {
          "base_uri": "https://localhost:8080/",
          "height": 36
        },
        "id": "4IFkW0Slp4KM",
        "outputId": "dd89bcf0-2629-4628-e6b2-005143138b24"
      }
    },
    {
      "cell_type": "markdown",
      "source": [
        "## Norm of vector in R2"
      ],
      "metadata": {
        "collapsed": false,
        "pycharm": {
          "name": "#%% md\n"
        },
        "id": "IdlMveD0p4KN"
      }
    },
    {
      "cell_type": "code",
      "execution_count": 3,
      "metadata": {
        "collapsed": true,
        "pycharm": {
          "name": "#%%\n"
        },
        "colab": {
          "base_uri": "https://localhost:8080/"
        },
        "id": "4ZXafXK8p4KN",
        "outputId": "4244021f-5582-4d63-d577-10321f3d3838"
      },
      "outputs": [
        {
          "output_type": "execute_result",
          "data": {
            "text/plain": [
              "array([4, 9])"
            ]
          },
          "metadata": {},
          "execution_count": 3
        }
      ],
      "source": [
        "v1= np.array([4, 9])\n",
        "v1"
      ]
    },
    {
      "cell_type": "code",
      "execution_count": 4,
      "outputs": [
        {
          "output_type": "execute_result",
          "data": {
            "text/plain": [
              "9.848857801796104"
            ]
          },
          "metadata": {},
          "execution_count": 4
        }
      ],
      "source": [
        "np.linalg.norm(v1)"
      ],
      "metadata": {
        "pycharm": {
          "name": "#%%\n"
        },
        "colab": {
          "base_uri": "https://localhost:8080/"
        },
        "id": "KQM76AoPp4KO",
        "outputId": "7b43d747-9586-4105-b4d9-33c2db5f59d9"
      }
    },
    {
      "cell_type": "markdown",
      "source": [
        "## Euclidan norm"
      ],
      "metadata": {
        "collapsed": false,
        "pycharm": {
          "name": "#%% md\n"
        },
        "id": "ZQS2h7Oqp4KO"
      }
    },
    {
      "cell_type": "code",
      "execution_count": 5,
      "outputs": [
        {
          "output_type": "execute_result",
          "data": {
            "text/plain": [
              "19.209372712298546"
            ]
          },
          "metadata": {},
          "execution_count": 5
        }
      ],
      "source": [
        "v2 = np.array([-10, 10, 13])\n",
        "np.linalg.norm(v2)"
      ],
      "metadata": {
        "pycharm": {
          "name": "#%%\n"
        },
        "colab": {
          "base_uri": "https://localhost:8080/"
        },
        "id": "u9kk_cLRp4KO",
        "outputId": "23248e48-f28f-4006-9757-c9e997c4f10a"
      }
    },
    {
      "cell_type": "markdown",
      "source": [
        "## Distance between 2 points"
      ],
      "metadata": {
        "collapsed": false,
        "pycharm": {
          "name": "#%% md\n"
        },
        "id": "bwz6Eq5-p4KO"
      }
    },
    {
      "cell_type": "code",
      "execution_count": 6,
      "outputs": [
        {
          "output_type": "execute_result",
          "data": {
            "text/plain": [
              "5.0"
            ]
          },
          "metadata": {},
          "execution_count": 6
        }
      ],
      "source": [
        "p = np.array([3, 0])\n",
        "q = np.array([0, 4])\n",
        "\n",
        "np.linalg.norm(p-q)"
      ],
      "metadata": {
        "pycharm": {
          "name": "#%%\n"
        },
        "colab": {
          "base_uri": "https://localhost:8080/"
        },
        "id": "4jxUnoeqp4KP",
        "outputId": "fe1b89a7-9c5a-4598-e563-bc734a30525b"
      }
    },
    {
      "cell_type": "code",
      "execution_count": 7,
      "outputs": [
        {
          "output_type": "execute_result",
          "data": {
            "text/plain": [
              "5.0990195135927845"
            ]
          },
          "metadata": {},
          "execution_count": 7
        }
      ],
      "source": [
        "p = np.array([3, 0, 1])\n",
        "q = np.array([0, 4, 2])\n",
        "\n",
        "np.linalg.norm(p-q)"
      ],
      "metadata": {
        "pycharm": {
          "name": "#%%\n"
        },
        "colab": {
          "base_uri": "https://localhost:8080/"
        },
        "id": "IKOdTvI-p4KP",
        "outputId": "7a33e080-80bd-42f0-c8c8-1de708edc5d1"
      }
    },
    {
      "cell_type": "markdown",
      "source": [
        "## Matrix multiplication"
      ],
      "metadata": {
        "collapsed": false,
        "pycharm": {
          "name": "#%% md\n"
        },
        "id": "9P_tVArTp4KP"
      }
    },
    {
      "cell_type": "markdown",
      "source": [
        "matrix (2, 5):\n",
        "[\n",
        "  [1, 2, 3, 4, 5],\n",
        "  [1, 2, 3, 4, 5]\n",
        "]"
      ],
      "metadata": {
        "id": "MSkwk-F3uMFK"
      }
    },
    {
      "cell_type": "code",
      "execution_count": 21,
      "outputs": [
        {
          "output_type": "stream",
          "name": "stdout",
          "text": [
            "(2, 5)\n"
          ]
        }
      ],
      "source": [
        "print(np.shape(np.array(\n",
        "[\n",
        "  [1, 2, 3, 4, 5],\n",
        "  [1, 2, 3, 4, 5]\n",
        "])))"
      ],
      "metadata": {
        "pycharm": {
          "name": "#%%\n"
        },
        "colab": {
          "base_uri": "https://localhost:8080/"
        },
        "id": "vK60RrPAp4KP",
        "outputId": "3cf6eaca-01bc-43f1-a240-997c8f912aa9"
      }
    },
    {
      "cell_type": "code",
      "source": [
        "X = np.array(\n",
        "    [[5, 3],\n",
        "     [3, 9]]\n",
        "    )\n",
        "Y = np.array(\n",
        "    [[1],\n",
        "     [-1]]\n",
        "    )\n",
        "print(X,\"\\n\", np.shape(X))\n",
        "print(Y, np.shape(Y))"
      ],
      "metadata": {
        "colab": {
          "base_uri": "https://localhost:8080/"
        },
        "id": "FkSiXdaBur94",
        "outputId": "472e5851-f48b-4d83-ad61-e4ff4f9d2e97"
      },
      "execution_count": 22,
      "outputs": [
        {
          "output_type": "stream",
          "name": "stdout",
          "text": [
            "[[5 3]\n",
            " [3 9]] \n",
            " (2, 2)\n",
            "[[ 1]\n",
            " [-1]] (2, 1)\n"
          ]
        }
      ]
    },
    {
      "cell_type": "code",
      "source": [
        "Z = np.dot(X, Y)\n",
        "Z"
      ],
      "metadata": {
        "colab": {
          "base_uri": "https://localhost:8080/"
        },
        "id": "zDWpfnVhr1na",
        "outputId": "b32f3643-512f-4a0e-fc74-9d8dba268c86"
      },
      "execution_count": 14,
      "outputs": [
        {
          "output_type": "execute_result",
          "data": {
            "text/plain": [
              "array([[ 2],\n",
              "       [-6]])"
            ]
          },
          "metadata": {},
          "execution_count": 14
        }
      ]
    },
    {
      "cell_type": "code",
      "source": [
        "X = np.array(\n",
        "    [\n",
        "        [2, -1, 3],\n",
        "        [3, 1, 0]\n",
        "    ]\n",
        ")\n",
        "Y= np.array(\n",
        "    [\n",
        "        [2, 1, -1],\n",
        "        [0, -1, 2],\n",
        "        [3, 2, 0]\n",
        "    ]\n",
        ")\n",
        "np.shape(X)"
      ],
      "metadata": {
        "colab": {
          "base_uri": "https://localhost:8080/"
        },
        "id": "DBmc7RA4sKvZ",
        "outputId": "480b82e6-aa82-4feb-da1a-e8662cc07c5a"
      },
      "execution_count": 19,
      "outputs": [
        {
          "output_type": "execute_result",
          "data": {
            "text/plain": [
              "(2, 3)"
            ]
          },
          "metadata": {},
          "execution_count": 19
        }
      ]
    },
    {
      "cell_type": "code",
      "source": [
        "np.dot(X, Y)"
      ],
      "metadata": {
        "colab": {
          "base_uri": "https://localhost:8080/"
        },
        "id": "-BcnAieQsuz8",
        "outputId": "4d4c3086-90b6-4c74-e0a7-d4e58a777817"
      },
      "execution_count": 18,
      "outputs": [
        {
          "output_type": "execute_result",
          "data": {
            "text/plain": [
              "array([[13,  9],\n",
              "       [ 6,  2]])"
            ]
          },
          "metadata": {},
          "execution_count": 18
        }
      ]
    },
    {
      "cell_type": "markdown",
      "source": [
        "## Determinant"
      ],
      "metadata": {
        "id": "KuoxFatQtJ_Q"
      }
    },
    {
      "cell_type": "code",
      "source": [
        "A = np.array(\n",
        "    [\n",
        "        [2, 4],\n",
        "        [-1, 3]\n",
        "    ]\n",
        ")\n",
        "print(np.linalg.det(A))\n",
        "print(round(np.linalg.det(A)))"
      ],
      "metadata": {
        "colab": {
          "base_uri": "https://localhost:8080/"
        },
        "id": "q9mbszKCtOIc",
        "outputId": "fd6d90d1-802b-4339-f89a-9aa98ca64cef"
      },
      "execution_count": 24,
      "outputs": [
        {
          "output_type": "stream",
          "name": "stdout",
          "text": [
            "9.999999999999998\n",
            "10\n"
          ]
        }
      ]
    },
    {
      "cell_type": "markdown",
      "source": [
        "## Matrix Trace - Ślad macierzy"
      ],
      "metadata": {
        "id": "e0MkRZ2Wvgbh"
      }
    },
    {
      "cell_type": "code",
      "source": [
        "np.trace(A)"
      ],
      "metadata": {
        "colab": {
          "base_uri": "https://localhost:8080/"
        },
        "id": "kQ_Nhvz7vmkh",
        "outputId": "7cfd2f59-8a13-4444-f213-4e7047531308"
      },
      "execution_count": 25,
      "outputs": [
        {
          "output_type": "execute_result",
          "data": {
            "text/plain": [
              "5"
            ]
          },
          "metadata": {},
          "execution_count": 25
        }
      ]
    },
    {
      "cell_type": "markdown",
      "source": [
        "## Identity matrix"
      ],
      "metadata": {
        "id": "kVB7JopDvvT0"
      }
    },
    {
      "cell_type": "code",
      "source": [
        "np.eye(5, dtype=\"int\")"
      ],
      "metadata": {
        "colab": {
          "base_uri": "https://localhost:8080/"
        },
        "id": "AKtZ-Qzjv3Od",
        "outputId": "5d2dbcde-2957-4701-d619-acc2b75199d7"
      },
      "execution_count": 26,
      "outputs": [
        {
          "output_type": "execute_result",
          "data": {
            "text/plain": [
              "array([[1, 0, 0, 0, 0],\n",
              "       [0, 1, 0, 0, 0],\n",
              "       [0, 0, 1, 0, 0],\n",
              "       [0, 0, 0, 1, 0],\n",
              "       [0, 0, 0, 0, 1]])"
            ]
          },
          "metadata": {},
          "execution_count": 26
        }
      ]
    },
    {
      "cell_type": "markdown",
      "source": [
        "## Invertible matrix - macierz odwrotna"
      ],
      "metadata": {
        "id": "VgKpEhp4wdME"
      }
    },
    {
      "cell_type": "code",
      "source": [
        "A = np.array(\n",
        "    [\n",
        "        [2, 4],\n",
        "        [-1, 3]\n",
        "    ]\n",
        ")\n",
        "B= np.linalg.inv(A)\n",
        "B"
      ],
      "metadata": {
        "colab": {
          "base_uri": "https://localhost:8080/"
        },
        "id": "xcC0qAdTwctE",
        "outputId": "4c7ea966-5821-4bd7-e70a-ea0f448cb1b2"
      },
      "execution_count": 28,
      "outputs": [
        {
          "output_type": "execute_result",
          "data": {
            "text/plain": [
              "array([[ 0.3, -0.4],\n",
              "       [ 0.1,  0.2]])"
            ]
          },
          "metadata": {},
          "execution_count": 28
        }
      ]
    },
    {
      "cell_type": "code",
      "source": [
        "np.set_printoptions(precision=4, suppress=True)\n",
        "\n",
        "np.dot(A, B)"
      ],
      "metadata": {
        "colab": {
          "base_uri": "https://localhost:8080/"
        },
        "id": "03BviiXTw3n9",
        "outputId": "460fb98d-ae8f-4e86-f8d4-cf1da1d541f7"
      },
      "execution_count": 31,
      "outputs": [
        {
          "output_type": "execute_result",
          "data": {
            "text/plain": [
              "array([[1., 0.],\n",
              "       [0., 1.]])"
            ]
          },
          "metadata": {},
          "execution_count": 31
        }
      ]
    },
    {
      "cell_type": "code",
      "source": [
        "np.dot(B, A)"
      ],
      "metadata": {
        "colab": {
          "base_uri": "https://localhost:8080/"
        },
        "id": "N2yhQy4rxFmP",
        "outputId": "6bd61d1d-edd6-4a0a-a386-c18354ffd386"
      },
      "execution_count": 32,
      "outputs": [
        {
          "output_type": "execute_result",
          "data": {
            "text/plain": [
              "array([[ 1., -0.],\n",
              "       [ 0.,  1.]])"
            ]
          },
          "metadata": {},
          "execution_count": 32
        }
      ]
    },
    {
      "cell_type": "markdown",
      "source": [
        "## Transpose matrix - Macierz transponowana"
      ],
      "metadata": {
        "id": "fBwIFrkoxJqc"
      }
    },
    {
      "cell_type": "code",
      "source": [
        "print(A)\n",
        "print(np.transpose(A))"
      ],
      "metadata": {
        "colab": {
          "base_uri": "https://localhost:8080/"
        },
        "id": "yweUcz5AxWJ4",
        "outputId": "70ca568e-5c24-463f-8cb2-9f366cd1293a"
      },
      "execution_count": 34,
      "outputs": [
        {
          "output_type": "stream",
          "name": "stdout",
          "text": [
            "[[ 2  4]\n",
            " [-1  3]]\n",
            "[[ 2 -1]\n",
            " [ 4  3]]\n"
          ]
        }
      ]
    },
    {
      "cell_type": "code",
      "source": [
        "A.T"
      ],
      "metadata": {
        "colab": {
          "base_uri": "https://localhost:8080/"
        },
        "id": "ypEW_6YQxnpK",
        "outputId": "1d3351ce-af2e-484f-ccf3-59c16a85ea6c"
      },
      "execution_count": 35,
      "outputs": [
        {
          "output_type": "execute_result",
          "data": {
            "text/plain": [
              "array([[ 2, -1],\n",
              "       [ 4,  3]])"
            ]
          },
          "metadata": {},
          "execution_count": 35
        }
      ]
    },
    {
      "cell_type": "markdown",
      "source": [
        "# Solving System of equations -  rozwiązywanie układów równań\n",
        "\n",
        "X = A^(-1) B"
      ],
      "metadata": {
        "id": "seEx_mlGyR3a"
      }
    },
    {
      "cell_type": "code",
      "source": [
        "A = np.array(\n",
        "    [\n",
        "        [2, 4],\n",
        "        [1, -1]\n",
        "    ]\n",
        ")\n",
        "B = np.array(\n",
        "    [\n",
        "        [10],\n",
        "        [-1]\n",
        "    ]\n",
        ")\n",
        "\n",
        "X = np.dot(np.linalg.inv(A), B)\n",
        "print(X)"
      ],
      "metadata": {
        "colab": {
          "base_uri": "https://localhost:8080/"
        },
        "id": "z5d8BxcgyNZB",
        "outputId": "b7ae8614-04be-425b-9854-fe758ae3db2c"
      },
      "execution_count": 36,
      "outputs": [
        {
          "output_type": "stream",
          "name": "stdout",
          "text": [
            "[[1.]\n",
            " [2.]]\n"
          ]
        }
      ]
    }
  ],
  "metadata": {
    "kernelspec": {
      "display_name": "Python 3",
      "language": "python",
      "name": "python3"
    },
    "language_info": {
      "codemirror_mode": {
        "name": "ipython",
        "version": 2
      },
      "file_extension": ".py",
      "mimetype": "text/x-python",
      "name": "python",
      "nbconvert_exporter": "python",
      "pygments_lexer": "ipython2",
      "version": "2.7.6"
    },
    "colab": {
      "provenance": [],
      "include_colab_link": true
    }
  },
  "nbformat": 4,
  "nbformat_minor": 0
}